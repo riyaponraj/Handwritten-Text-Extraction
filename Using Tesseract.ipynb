{
 "cells": [
  {
   "cell_type": "markdown",
   "id": "99dece58",
   "metadata": {},
   "source": [
    "IMPORT THE REQUIRED LIBRARIES"
   ]
  },
  {
   "cell_type": "code",
   "execution_count": 7,
   "id": "777fd320",
   "metadata": {},
   "outputs": [],
   "source": [
    "\n",
    "import cv2\n",
    "import pytesseract\n",
    "import os\n",
    "import numpy as np\n",
    "from skimage.exposure import rescale_intensity\n",
    "import re"
   ]
  },
  {
   "cell_type": "markdown",
   "id": "f2b8b19b",
   "metadata": {},
   "source": [
    "IMPORT IMAGE"
   ]
  },
  {
   "cell_type": "code",
   "execution_count": 19,
   "id": "48468762",
   "metadata": {},
   "outputs": [
    {
     "name": "stdout",
     "output_type": "stream",
     "text": [
      "w=362, h=568, d=3\n"
     ]
    }
   ],
   "source": [
    "image = cv2.imread(r\"C:\\Users\\riyap\\OneDrive\\Desktop\\code\\image\\6.jpg\")\n",
    "(w, h, d) = image.shape\n",
    "print('w={}, h={}, d={}'.format(w,h,d))\n"
   ]
  },
  {
   "cell_type": "markdown",
   "id": "c7dcf4ad",
   "metadata": {},
   "source": [
    "PRE-PROCESS"
   ]
  },
  {
   "cell_type": "code",
   "execution_count": 20,
   "id": "057ecd4f",
   "metadata": {},
   "outputs": [],
   "source": [
    "gray = cv2.cvtColor(image, cv2.COLOR_BGR2GRAY)\n",
    "# cv2.imshow('image', image)\n",
    "# cv2.waitKey(0)"
   ]
  },
  {
   "cell_type": "code",
   "execution_count": 15,
   "id": "bbf73052",
   "metadata": {},
   "outputs": [],
   "source": [
    "sharpen = np.array((\n",
    "\t[0, -1, 0],\n",
    "\t[-1, 5, -1],\n",
    "\t[0, -1, 0]), dtype=\"int\")\n",
    "# kH, kW =  sharpen.shape[:2]\n",
    "# sharpen.shape"
   ]
  },
  {
   "cell_type": "code",
   "execution_count": 21,
   "id": "d5c29d9d",
   "metadata": {},
   "outputs": [],
   "source": [
    "def convolve(image, kernel):\n",
    "    (iH, iW) = image.shape[:2]\n",
    "    (kH, kW) = kernel.shape[:2]\n",
    "    pad = (kW - 1) // 2\n",
    "    image = cv2.copyMakeBorder(image, pad, pad, pad, pad,cv2.BORDER_REPLICATE)\n",
    "    output = np.zeros((iH, iW), dtype=\"float32\")\n",
    "    for y in np.arange(pad, iH + pad):\n",
    "        for x in np.arange(pad, iW + pad):\n",
    "            roi = image[y - pad:y + pad + 1, x - pad:x + pad + 1]\n",
    "            k = (roi * kernel).sum()\n",
    "            output[y - pad, x - pad] = k\n",
    "    output = rescale_intensity(output, in_range=(0, 255))\n",
    "    output = (output * 255).astype(\"uint8\")\n",
    "    return output\n",
    "Output = convolve(gray, sharpen)\n",
    "# cv2.imshow(\"Sharpen\", Output)\n",
    "# # cv2.imshow('image', image)\n",
    "# cv2.waitKey(0)"
   ]
  },
  {
   "cell_type": "code",
   "execution_count": 27,
   "id": "7fbcbb41",
   "metadata": {},
   "outputs": [
    {
     "data": {
      "text/plain": [
       "-1"
      ]
     },
     "execution_count": 27,
     "metadata": {},
     "output_type": "execute_result"
    }
   ],
   "source": [
    "\n",
    "output = cv2.filter2D(gray, -1, sharpen) \n",
    "cv2.imshow(\"Sharpen\", output)\n",
    "cv2.waitKey(0)"
   ]
  },
  {
   "cell_type": "markdown",
   "id": "3816be20",
   "metadata": {},
   "source": [
    "Viewing Threshold"
   ]
  },
  {
   "cell_type": "code",
   "execution_count": 22,
   "id": "8453361a",
   "metadata": {},
   "outputs": [
    {
     "data": {
      "text/plain": [
       "-1"
      ]
     },
     "execution_count": 22,
     "metadata": {},
     "output_type": "execute_result"
    }
   ],
   "source": [
    "thresh = cv2.adaptiveThreshold(gray, 255, cv2.ADAPTIVE_THRESH_GAUSSIAN_C, cv2.THRESH_BINARY_INV, 11, 2)\n",
    "cv2.imshow('image', thresh)\n",
    "cv2.waitKey(0)"
   ]
  },
  {
   "cell_type": "markdown",
   "id": "4fbea5bb",
   "metadata": {},
   "source": [
    "SETTING PYTESSERACT"
   ]
  },
  {
   "cell_type": "code",
   "execution_count": 10,
   "id": "916393fe",
   "metadata": {},
   "outputs": [],
   "source": [
    "\n",
    "file_path = r'C:\\Users\\riyap\\anaconda3\\envs\\tesseract\\share\\tessdata'\n",
    "\n",
    "os.chmod(file_path, 0o666)\n",
    "os.environ['TESSDATA_PREFIX'] =  r\"C:\\Users\\riyap\\anaconda3\\envs\\tesseract\\share\\tessdata\""
   ]
  },
  {
   "cell_type": "code",
   "execution_count": 8,
   "id": "444324ac",
   "metadata": {},
   "outputs": [],
   "source": [
    "try:\n",
    "    from PIL import Image\n",
    "except ImportError:\n",
    "    import Image\n"
   ]
  },
  {
   "cell_type": "code",
   "execution_count": 23,
   "id": "88882228",
   "metadata": {},
   "outputs": [
    {
     "name": "stdout",
     "output_type": "stream",
     "text": [
      "a=5\n",
      "\n",
      "b = 10\n",
      "\n",
      "c=a+b\n",
      "\n",
      "print(\"Hello ashish here!\")\n",
      "print( a+b)\n",
      "\n"
     ]
    }
   ],
   "source": [
    "pytesseract.pytesseract.tesseract_cmd = r'C:\\Users\\riyap\\anaconda3\\envs\\tesseract\\Library\\bin\\tesseract.exe'\n",
    "# char_set = 'ABCDEFGHIJKLMNOPQRSTUVWXYZabcdefghijklmnopqrstuvwxyz0123456789_+-*/%=(),.:;[]{}&!>< \\'\"'\n",
    "# config = {'tessedit_char_whitelist': char_set, 'psm': 10}\n",
    "# text_from_image = pytesseract.image_to_string(Image.open(r'C:\\Users\\riyap\\Downloads\\Capture.PNG') )\n",
    "image_path = r'C:\\Users\\riyap\\OneDrive\\Desktop\\code\\image\\6.jpg'\n",
    "# image_path = r'C:\\Users\\riyap\\Downloads\\Capture.PNG'\n",
    "\n",
    "# Define the configuration options\n",
    "custom_config = r'--oem 3 --psm 6  tessedit_char_whitelist=\"\"!'\n",
    "\n",
    "# Extract text from the image using pytesseract and the custom configuration\n",
    "text = pytesseract.image_to_string(gray,lang='fin' ,config=custom_config)\n",
    "\n",
    "print(text)"
   ]
  },
  {
   "cell_type": "markdown",
   "id": "923230da",
   "metadata": {},
   "source": [
    "IMPORTING THE GROUND TRUTH"
   ]
  },
  {
   "cell_type": "code",
   "execution_count": 14,
   "id": "8be67e69",
   "metadata": {},
   "outputs": [],
   "source": [
    "with open(r'C:\\Users\\riyap\\OneDrive\\Desktop\\code\\label\\6.txt', 'r') as f:\n",
    "    ground_truth = f.read()\n"
   ]
  },
  {
   "cell_type": "markdown",
   "id": "54288fcb",
   "metadata": {},
   "source": [
    "COMPARING WITH THE GROUND TRUTH"
   ]
  },
  {
   "cell_type": "code",
   "execution_count": 15,
   "id": "859e69ba",
   "metadata": {},
   "outputs": [
    {
     "name": "stdout",
     "output_type": "stream",
     "text": [
      "a=5\n",
      "b=10\n",
      "c=a+b\n",
      "print(\"Hello ashish here!\")\n",
      "print(a+b)\n"
     ]
    }
   ],
   "source": [
    "pattern = r'print\\(.*\\).*'\n",
    "\n",
    "\n",
    "# Split the code string into lines and loop over each line\n",
    "modified_lines = []\n",
    "for line in ground_truth.split('\\n'):\n",
    "    # Check if the line matches the pattern\n",
    "    if re.match(pattern, line):\n",
    "        # If the line matches, add it to the modified lines list without modifying it\n",
    "        modified_lines.append(line)\n",
    "    else:\n",
    "        # If the line does not match, remove all whitespace between the characters\n",
    "        modified_line = re.sub(r'\\s+', '', line)\n",
    "        modified_lines.append(modified_line)\n",
    "\n",
    "# Join the modified lines back into a single string\n",
    "n= '\\n'.join(modified_lines)\n",
    "\n",
    "print(n)"
   ]
  },
  {
   "cell_type": "code",
   "execution_count": 16,
   "id": "53828042",
   "metadata": {},
   "outputs": [
    {
     "data": {
      "text/plain": [
       "1"
      ]
     },
     "execution_count": 16,
     "metadata": {},
     "output_type": "execute_result"
    }
   ],
   "source": [
    "mismatches = 0\n",
    "for i in range(min(len(m), len(n))):\n",
    " \n",
    "    if m[i].strip() or m[i] == '\\n':\n",
    "        continue\n",
    "    if m[i] != n[i]:\n",
    "        mismatches += 1\n",
    "mismatches"
   ]
  },
  {
   "cell_type": "code",
   "execution_count": 17,
   "id": "0ee83b23",
   "metadata": {},
   "outputs": [],
   "source": [
    "\n",
    "with open('new.py', 'w', encoding='utf-8') as f:\n",
    "    f.write(text)"
   ]
  },
  {
   "cell_type": "code",
   "execution_count": 18,
   "id": "a94a6f5a",
   "metadata": {},
   "outputs": [
    {
     "name": "stdout",
     "output_type": "stream",
     "text": [
      "Hello ashish here!\n",
      "15\n"
     ]
    }
   ],
   "source": [
    "%run new.py"
   ]
  }
 ],
 "metadata": {
  "kernelspec": {
   "display_name": "Python 3 (ipykernel)",
   "language": "python",
   "name": "python3"
  },
  "language_info": {
   "codemirror_mode": {
    "name": "ipython",
    "version": 3
   },
   "file_extension": ".py",
   "mimetype": "text/x-python",
   "name": "python",
   "nbconvert_exporter": "python",
   "pygments_lexer": "ipython3",
   "version": "3.8.18"
  }
 },
 "nbformat": 4,
 "nbformat_minor": 5
}
